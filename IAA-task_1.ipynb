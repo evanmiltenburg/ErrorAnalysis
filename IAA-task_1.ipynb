{
 "cells": [
  {
   "cell_type": "markdown",
   "metadata": {},
   "source": [
    "# Task 1 - Congruency\n",
    "\n",
    "Do we agree on whether there are any errors in the descriptions? This notebook provides an analysis."
   ]
  },
  {
   "cell_type": "code",
   "execution_count": 2,
   "metadata": {
    "collapsed": true
   },
   "outputs": [],
   "source": [
    "import json\n",
    "from sklearn.metrics import cohen_kappa_score, accuracy_score\n",
    "\n",
    "# These two functions are necessary to display the images in the notebook.\n",
    "from IPython.core.display import display, HTML"
   ]
  },
  {
   "cell_type": "markdown",
   "metadata": {},
   "source": [
    "## Loading the data\n",
    "\n",
    "First load the data. This code also contains a function to display images with their generated captions, so that we can inspect them from inside the notebook."
   ]
  },
  {
   "cell_type": "code",
   "execution_count": 3,
   "metadata": {
    "collapsed": false
   },
   "outputs": [],
   "source": [
    "with open('./val_images.txt') as f:\n",
    "    images = {str(i):line for i,line in enumerate(f)}  \n",
    "\n",
    "with open('./satyrid/19-sept-2016-error-analysis.dev.txt') as f:\n",
    "    descriptions = {str(i):line for i,line in enumerate(f)}\n",
    "\n",
    "def display_image(i):\n",
    "    \"Display the image.\"\n",
    "    image = images[i]\n",
    "    description = descriptions[i]\n",
    "    image_path = './static/images/' + image\n",
    "    html= \"\"\"<center>\n",
    "              {} <b>image</b>: {}<br/>\n",
    "              <img src={} width=\"300px\"><br/>\n",
    "              {}<br/>\n",
    "              </center>\"\"\".format(i, image, image_path, description)\n",
    "    display(HTML(html))\n",
    "\n",
    "def load_json(filename):\n",
    "    \"Load and return the JSON file.\"\n",
    "    with open(filename) as f:\n",
    "        return json.load(f)\n",
    "\n",
    "def get_annotation_lists(a,b):\n",
    "    \"Get two lists of labels for annotation dicts A and B. (A should be the shortest one.)\"\n",
    "    a_list = []\n",
    "    b_list = []\n",
    "    ids = []\n",
    "    for key,value in a.items():\n",
    "        ids.append(key)\n",
    "        a_list.append(value)\n",
    "        try:\n",
    "            b_list.append(b[key])\n",
    "        except KeyError:\n",
    "            a_list.pop()\n",
    "            ids.pop()\n",
    "    return a_list, b_list, ids\n",
    "\n",
    "congruency_desmond = load_json('./annotations_desmond/congruency_data.json')\n",
    "incongruent_desmond = load_json('./annotations_desmond/incongruent_categorized.json')\n",
    "\n",
    "# This image was in the guidelines. \n",
    "# Desmond annotated an additional image so as to keep the annotation honest.\n",
    "del congruency_desmond[\"82\"]\n",
    "del incongruent_desmond[\"82\"]\n",
    "\n",
    "\n",
    "congruency_emiel = load_json('./annotations_emiel/congruency_data_final.json') \n",
    "incongruent_emiel = load_json('./annotations_emiel/incongruent_final.json') "
   ]
  },
  {
   "cell_type": "markdown",
   "metadata": {},
   "source": [
    "## Compute inter-annotator agreement score\n",
    "\n",
    "Below we compute the inter annotator agreement score (Cohen's kappa) and the accuracy (percent overlap). The kappa score indicates substantial agreement, and the accuracy is very high. Since we have double-annotated 100 examples, we can deduce that there are 9 descriptions where the annotators disagree."
   ]
  },
  {
   "cell_type": "code",
   "execution_count": 4,
   "metadata": {
    "collapsed": false
   },
   "outputs": [
    {
     "name": "stdout",
     "output_type": "stream",
     "text": [
      "Kappa score of: 0.674855491329 with an accuracy of: 0.91\n"
     ]
    }
   ],
   "source": [
    "labels_desmond, labels_emiel, ids = get_annotation_lists(congruency_desmond, congruency_emiel)\n",
    "\n",
    "kappa = cohen_kappa_score(labels_desmond, labels_emiel)\n",
    "accuracy = accuracy_score(labels_desmond, labels_emiel)\n",
    "\n",
    "print(\"Kappa score of:\", kappa, \"with an accuracy of:\", accuracy)"
   ]
  },
  {
   "cell_type": "markdown",
   "metadata": {},
   "source": [
    "The kappa score is much lower than the accuracy because the majority class (incongruent) strongly outnumbers the minority class. Here are the absolute numbers:"
   ]
  },
  {
   "cell_type": "code",
   "execution_count": 5,
   "metadata": {
    "collapsed": false
   },
   "outputs": [
    {
     "name": "stdout",
     "output_type": "stream",
     "text": [
      "81 86 79\n"
     ]
    }
   ],
   "source": [
    "num_incongruent_desmond = labels_desmond.count('incongruent')\n",
    "num_incongruent_emiel = labels_emiel.count('incongruent')\n",
    "num_both = len([1 for a,b in zip(labels_desmond,labels_emiel) if a == b and a == 'incongruent'])\n",
    "\n",
    "print(num_incongruent_desmond, num_incongruent_emiel, num_both)"
   ]
  },
  {
   "cell_type": "code",
   "execution_count": 6,
   "metadata": {
    "collapsed": false
   },
   "outputs": [
    {
     "data": {
      "text/html": [
       "<center>\n",
       "              17 <b>image</b>: 1126137905.jpg\n",
       "<br/>\n",
       "              <img src=./static/images/1126137905.jpg\n",
       " width=\"300px\"><br/>\n",
       "              A group of people are walking down a street\n",
       "<br/>\n",
       "              </center>"
      ],
      "text/plain": [
       "<IPython.core.display.HTML object>"
      ]
     },
     "metadata": {},
     "output_type": "display_data"
    },
    {
     "data": {
      "text/html": [
       "<center>D: congruent - E: incongruent</center>"
      ],
      "text/plain": [
       "<IPython.core.display.HTML object>"
      ]
     },
     "metadata": {},
     "output_type": "display_data"
    },
    {
     "data": {
      "text/html": [
       "<center>Reason for incongruent: ['activity']</center>"
      ],
      "text/plain": [
       "<IPython.core.display.HTML object>"
      ]
     },
     "metadata": {},
     "output_type": "display_data"
    },
    {
     "data": {
      "text/html": [
       "<center>\n",
       "              41 <b>image</b>: 1348517311.jpg\n",
       "<br/>\n",
       "              <img src=./static/images/1348517311.jpg\n",
       " width=\"300px\"><br/>\n",
       "              A woman in a yellow shirt is bowling\n",
       "<br/>\n",
       "              </center>"
      ],
      "text/plain": [
       "<IPython.core.display.HTML object>"
      ]
     },
     "metadata": {},
     "output_type": "display_data"
    },
    {
     "data": {
      "text/html": [
       "<center>D: incongruent - E: congruent</center>"
      ],
      "text/plain": [
       "<IPython.core.display.HTML object>"
      ]
     },
     "metadata": {},
     "output_type": "display_data"
    },
    {
     "data": {
      "text/html": [
       "<center>['gender']</center>"
      ],
      "text/plain": [
       "<IPython.core.display.HTML object>"
      ]
     },
     "metadata": {},
     "output_type": "display_data"
    },
    {
     "data": {
      "text/html": [
       "<center>\n",
       "              89 <b>image</b>: 1752454466.jpg\n",
       "<br/>\n",
       "              <img src=./static/images/1752454466.jpg\n",
       " width=\"300px\"><br/>\n",
       "              A brown and white dog jumps over a hurdle\n",
       "<br/>\n",
       "              </center>"
      ],
      "text/plain": [
       "<IPython.core.display.HTML object>"
      ]
     },
     "metadata": {},
     "output_type": "display_data"
    },
    {
     "data": {
      "text/html": [
       "<center>D: incongruent - E: congruent</center>"
      ],
      "text/plain": [
       "<IPython.core.display.HTML object>"
      ]
     },
     "metadata": {},
     "output_type": "display_data"
    },
    {
     "data": {
      "text/html": [
       "<center>['similar-object', 'activity']</center>"
      ],
      "text/plain": [
       "<IPython.core.display.HTML object>"
      ]
     },
     "metadata": {},
     "output_type": "display_data"
    },
    {
     "data": {
      "text/html": [
       "<center>\n",
       "              56 <b>image</b>: 1409723496.jpg\n",
       "<br/>\n",
       "              <img src=./static/images/1409723496.jpg\n",
       " width=\"300px\"><br/>\n",
       "              A man in a white shirt is working on a table\n",
       "<br/>\n",
       "              </center>"
      ],
      "text/plain": [
       "<IPython.core.display.HTML object>"
      ]
     },
     "metadata": {},
     "output_type": "display_data"
    },
    {
     "data": {
      "text/html": [
       "<center>D: congruent - E: incongruent</center>"
      ],
      "text/plain": [
       "<IPython.core.display.HTML object>"
      ]
     },
     "metadata": {},
     "output_type": "display_data"
    },
    {
     "data": {
      "text/html": [
       "<center>Reason for incongruent: ['activity', 'color of clothing']</center>"
      ],
      "text/plain": [
       "<IPython.core.display.HTML object>"
      ]
     },
     "metadata": {},
     "output_type": "display_data"
    },
    {
     "data": {
      "text/html": [
       "<center>\n",
       "              42 <b>image</b>: 134857559.jpg\n",
       "<br/>\n",
       "              <img src=./static/images/134857559.jpg\n",
       " width=\"300px\"><br/>\n",
       "              A man is playing a guitar in front of a crowd\n",
       "<br/>\n",
       "              </center>"
      ],
      "text/plain": [
       "<IPython.core.display.HTML object>"
      ]
     },
     "metadata": {},
     "output_type": "display_data"
    },
    {
     "data": {
      "text/html": [
       "<center>D: congruent - E: incongruent</center>"
      ],
      "text/plain": [
       "<IPython.core.display.HTML object>"
      ]
     },
     "metadata": {},
     "output_type": "display_data"
    },
    {
     "data": {
      "text/html": [
       "<center>Reason for incongruent: ['number']</center>"
      ],
      "text/plain": [
       "<IPython.core.display.HTML object>"
      ]
     },
     "metadata": {},
     "output_type": "display_data"
    },
    {
     "data": {
      "text/html": [
       "<center>\n",
       "              55 <b>image</b>: 1405665934.jpg\n",
       "<br/>\n",
       "              <img src=./static/images/1405665934.jpg\n",
       " width=\"300px\"><br/>\n",
       "              A woman in a white shirt is sitting on a bench\n",
       "<br/>\n",
       "              </center>"
      ],
      "text/plain": [
       "<IPython.core.display.HTML object>"
      ]
     },
     "metadata": {},
     "output_type": "display_data"
    },
    {
     "data": {
      "text/html": [
       "<center>D: congruent - E: incongruent</center>"
      ],
      "text/plain": [
       "<IPython.core.display.HTML object>"
      ]
     },
     "metadata": {},
     "output_type": "display_data"
    },
    {
     "data": {
      "text/html": [
       "<center>Reason for incongruent: ['type of clothing']</center>"
      ],
      "text/plain": [
       "<IPython.core.display.HTML object>"
      ]
     },
     "metadata": {},
     "output_type": "display_data"
    },
    {
     "data": {
      "text/html": [
       "<center>\n",
       "              77 <b>image</b>: 1567005236.jpg\n",
       "<br/>\n",
       "              <img src=./static/images/1567005236.jpg\n",
       " width=\"300px\"><br/>\n",
       "              A group of people walking down a sidewalk in a city\n",
       "<br/>\n",
       "              </center>"
      ],
      "text/plain": [
       "<IPython.core.display.HTML object>"
      ]
     },
     "metadata": {},
     "output_type": "display_data"
    },
    {
     "data": {
      "text/html": [
       "<center>D: congruent - E: incongruent</center>"
      ],
      "text/plain": [
       "<IPython.core.display.HTML object>"
      ]
     },
     "metadata": {},
     "output_type": "display_data"
    },
    {
     "data": {
      "text/html": [
       "<center>Reason for incongruent: ['generally unrelated']</center>"
      ],
      "text/plain": [
       "<IPython.core.display.HTML object>"
      ]
     },
     "metadata": {},
     "output_type": "display_data"
    },
    {
     "data": {
      "text/html": [
       "<center>\n",
       "              98 <b>image</b>: 194197375.jpg\n",
       "<br/>\n",
       "              <img src=./static/images/194197375.jpg\n",
       " width=\"300px\"><br/>\n",
       "              A group of people are working in a river\n",
       "<br/>\n",
       "              </center>"
      ],
      "text/plain": [
       "<IPython.core.display.HTML object>"
      ]
     },
     "metadata": {},
     "output_type": "display_data"
    },
    {
     "data": {
      "text/html": [
       "<center>D: congruent - E: incongruent</center>"
      ],
      "text/plain": [
       "<IPython.core.display.HTML object>"
      ]
     },
     "metadata": {},
     "output_type": "display_data"
    },
    {
     "data": {
      "text/html": [
       "<center>Reason for incongruent: ['activity', 'position']</center>"
      ],
      "text/plain": [
       "<IPython.core.display.HTML object>"
      ]
     },
     "metadata": {},
     "output_type": "display_data"
    },
    {
     "data": {
      "text/html": [
       "<center>\n",
       "              15 <b>image</b>: 112243673.jpg\n",
       "<br/>\n",
       "              <img src=./static/images/112243673.jpg\n",
       " width=\"300px\"><br/>\n",
       "              A man is riding a bike in the woods\n",
       "<br/>\n",
       "              </center>"
      ],
      "text/plain": [
       "<IPython.core.display.HTML object>"
      ]
     },
     "metadata": {},
     "output_type": "display_data"
    },
    {
     "data": {
      "text/html": [
       "<center>D: congruent - E: incongruent</center>"
      ],
      "text/plain": [
       "<IPython.core.display.HTML object>"
      ]
     },
     "metadata": {},
     "output_type": "display_data"
    },
    {
     "data": {
      "text/html": [
       "<center>Reason for incongruent: ['scene/event/location', 'number']</center>"
      ],
      "text/plain": [
       "<IPython.core.display.HTML object>"
      ]
     },
     "metadata": {},
     "output_type": "display_data"
    }
   ],
   "source": [
    "for judgment_a, judgment_b, i in zip(*get_annotation_lists(congruency_desmond, congruency_emiel)):\n",
    "    if judgment_a != judgment_b:\n",
    "        display_image(i)\n",
    "        display(HTML('<center>D: {} - E: {}</center>'.format(judgment_a, judgment_b)))\n",
    "        if judgment_a == 'incongruent':\n",
    "            display(HTML('<center>{}</center>'.format(incongruent_desmond[i])))\n",
    "        else:\n",
    "            display(HTML('<center>Reason for incongruent: {}</center>'.format(incongruent_emiel[i])))"
   ]
  },
  {
   "cell_type": "code",
   "execution_count": null,
   "metadata": {
    "collapsed": true
   },
   "outputs": [],
   "source": []
  }
 ],
 "metadata": {
  "anaconda-cloud": {},
  "kernelspec": {
   "display_name": "Python 3",
   "language": "python",
   "name": "python3"
  },
  "language_info": {
   "codemirror_mode": {
    "name": "ipython",
    "version": 3
   },
   "file_extension": ".py",
   "mimetype": "text/x-python",
   "name": "python",
   "nbconvert_exporter": "python",
   "pygments_lexer": "ipython3",
   "version": "3.6.0"
  }
 },
 "nbformat": 4,
 "nbformat_minor": 1
}
