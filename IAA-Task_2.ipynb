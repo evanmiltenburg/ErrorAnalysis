{
 "cells": [
  {
   "cell_type": "markdown",
   "metadata": {},
   "source": [
    "# Exploring the results\n",
    "\n",
    "This notebook provides code to explore the annotation results and compute precision and recall for the error analysis."
   ]
  },
  {
   "cell_type": "code",
   "execution_count": 1,
   "metadata": {
    "collapsed": true
   },
   "outputs": [],
   "source": [
    "# These two functions are necessary to display the images in the notebook.\n",
    "from IPython.core.display import display, HTML\n",
    "\n",
    "# The annotations are stored in JSON files.\n",
    "import json\n",
    "from collections import Counter\n",
    "from tabulate import tabulate"
   ]
  },
  {
   "cell_type": "code",
   "execution_count": 2,
   "metadata": {
    "collapsed": true
   },
   "outputs": [],
   "source": [
    "with open('./val_images.txt') as f:\n",
    "    images = {str(i):line for i,line in enumerate(f)}\n",
    "\n",
    "with open('./annotations_emiel/incongruent_final.json') as f:\n",
    "    incongruent = json.load(f)    \n",
    "\n",
    "with open('./satyrid/19-sept-2016-error-analysis.dev.txt') as f:\n",
    "    descriptions = {str(i):line for i,line in enumerate(f)}\n",
    "\n",
    "def categories_html(i):\n",
    "    try:\n",
    "        return \"<b>categories</b>:\" + ', '.join(incongruent[i])\n",
    "    except KeyError:\n",
    "        return \"\"\n",
    "\n",
    "    \n",
    "# These values are useful to exclude the first 100 incongruent examples from the guidelines.\n",
    "# Else inter-annotator agreement isn't reliable anymore.\n",
    "\n",
    "incongruent_keys = list(map(str,\n",
    "                        sorted(map(int, incongruent.keys()))\n",
    "                        ))\n",
    "def incongruent_index(i):\n",
    "    \"Get the index for the subset of incongruent descriptions, if we sort by general index.\"\n",
    "    try:\n",
    "        return incongruent_keys.index(i)\n",
    "    except KeyError:\n",
    "        return 'NA'\n",
    "\n",
    "def display_image(i):\n",
    "    \"Display the image.\"\n",
    "    image = images[i]\n",
    "    ii = incongruent_index(i)\n",
    "    description = descriptions[i]\n",
    "    cats = categories_html(i)\n",
    "    image_path = './static/images/' + image\n",
    "    html= \"\"\"<center>\n",
    "              {} ({}) <b>image</b>: {}<br/>\n",
    "              <img src={} width=\"300px\"><br/>\n",
    "              {}<br/>\n",
    "              {}\n",
    "              </center>\"\"\".format(i, ii, image, image_path, description, cats)\n",
    "    display(HTML(html))"
   ]
  },
  {
   "cell_type": "code",
   "execution_count": 3,
   "metadata": {
    "collapsed": false,
    "scrolled": false
   },
   "outputs": [
    {
     "data": {
      "text/html": [
       "<center>\n",
       "              9 (9) <b>image</b>: 1092437557.jpg\n",
       "<br/>\n",
       "              <img src=./static/images/1092437557.jpg\n",
       " width=\"300px\"><br/>\n",
       "              A man in a blue shirt rides a bike\n",
       "<br/>\n",
       "              <b>categories</b>:gender, activity, color of clothing\n",
       "              </center>"
      ],
      "text/plain": [
       "<IPython.core.display.HTML object>"
      ]
     },
     "metadata": {},
     "output_type": "display_data"
    },
    {
     "data": {
      "text/html": [
       "<center>\n",
       "              10 (10) <b>image</b>: 109671650.jpg\n",
       "<br/>\n",
       "              <img src=./static/images/109671650.jpg\n",
       " width=\"300px\"><br/>\n",
       "              A man in a blue shirt is climbing a rock wall\n",
       "<br/>\n",
       "              <b>categories</b>:age, similar-object, activity\n",
       "              </center>"
      ],
      "text/plain": [
       "<IPython.core.display.HTML object>"
      ]
     },
     "metadata": {},
     "output_type": "display_data"
    },
    {
     "data": {
      "text/html": [
       "<center>\n",
       "              22 (21) <b>image</b>: 1150429218.jpg\n",
       "<br/>\n",
       "              <img src=./static/images/1150429218.jpg\n",
       " width=\"300px\"><br/>\n",
       "              A young girl in a pink dress is standing in front of a large building\n",
       "<br/>\n",
       "              <b>categories</b>:age, stance, gender\n",
       "              </center>"
      ],
      "text/plain": [
       "<IPython.core.display.HTML object>"
      ]
     },
     "metadata": {},
     "output_type": "display_data"
    },
    {
     "data": {
      "text/html": [
       "<center>\n",
       "              26 (24) <b>image</b>: 120764850.jpg\n",
       "<br/>\n",
       "              <img src=./static/images/120764850.jpg\n",
       " width=\"300px\"><br/>\n",
       "              A baby in a yellow shirt is playing with a baby in a blue shirt\n",
       "<br/>\n",
       "              <b>categories</b>:activity, inexistent-object, color of clothing\n",
       "              </center>"
      ],
      "text/plain": [
       "<IPython.core.display.HTML object>"
      ]
     },
     "metadata": {},
     "output_type": "display_data"
    },
    {
     "data": {
      "text/html": [
       "<center>\n",
       "              49 (44) <b>image</b>: 1363843090.jpg\n",
       "<br/>\n",
       "              <img src=./static/images/1363843090.jpg\n",
       " width=\"300px\"><br/>\n",
       "              A black and white dog is running through the grass\n",
       "<br/>\n",
       "              <b>categories</b>:scene/event/location, activity, color\n",
       "              </center>"
      ],
      "text/plain": [
       "<IPython.core.display.HTML object>"
      ]
     },
     "metadata": {},
     "output_type": "display_data"
    },
    {
     "data": {
      "text/html": [
       "<center>\n",
       "              50 (45) <b>image</b>: 1368338041.jpg\n",
       "<br/>\n",
       "              <img src=./static/images/1368338041.jpg\n",
       " width=\"300px\"><br/>\n",
       "              Two dogs are fighting on a leash\n",
       "<br/>\n",
       "              <b>categories</b>:activity, other, number\n",
       "              </center>"
      ],
      "text/plain": [
       "<IPython.core.display.HTML object>"
      ]
     },
     "metadata": {},
     "output_type": "display_data"
    },
    {
     "data": {
      "text/html": [
       "<center>\n",
       "              99 (85) <b>image</b>: 1944813674.jpg\n",
       "<br/>\n",
       "              <img src=./static/images/1944813674.jpg\n",
       " width=\"300px\"><br/>\n",
       "              A man in a blue shirt is standing on the beach\n",
       "<br/>\n",
       "              <b>categories</b>:scene/event/location, type of clothing, color of clothing\n",
       "              </center>"
      ],
      "text/plain": [
       "<IPython.core.display.HTML object>"
      ]
     },
     "metadata": {},
     "output_type": "display_data"
    },
    {
     "data": {
      "text/html": [
       "<center>\n",
       "              101 (87) <b>image</b>: 205675005.jpg\n",
       "<br/>\n",
       "              <img src=./static/images/205675005.jpg\n",
       " width=\"300px\"><br/>\n",
       "              A man in a yellow shirt is standing in front of a microphone with a man in a black shirt\n",
       "<br/>\n",
       "              <b>categories</b>:stance, type of clothing, color of clothing\n",
       "              </center>"
      ],
      "text/plain": [
       "<IPython.core.display.HTML object>"
      ]
     },
     "metadata": {},
     "output_type": "display_data"
    },
    {
     "data": {
      "text/html": [
       "<center>\n",
       "              106 (90) <b>image</b>: 207015505.jpg\n",
       "<br/>\n",
       "              <img src=./static/images/207015505.jpg\n",
       " width=\"300px\"><br/>\n",
       "              A man in a white shirt is talking to a man in a white shirt\n",
       "<br/>\n",
       "              <b>categories</b>:gender, activity, type of clothing\n",
       "              </center>"
      ],
      "text/plain": [
       "<IPython.core.display.HTML object>"
      ]
     },
     "metadata": {},
     "output_type": "display_data"
    },
    {
     "data": {
      "text/html": [
       "<center>\n",
       "              118 (100) <b>image</b>: 2113592981.jpg\n",
       "<br/>\n",
       "              <img src=./static/images/2113592981.jpg\n",
       " width=\"300px\"><br/>\n",
       "              A man in a hat and a black shirt is jumping up on the ground\n",
       "<br/>\n",
       "              <b>categories</b>:gender, type of clothing, color of clothing\n",
       "              </center>"
      ],
      "text/plain": [
       "<IPython.core.display.HTML object>"
      ]
     },
     "metadata": {},
     "output_type": "display_data"
    },
    {
     "data": {
      "text/html": [
       "<center>\n",
       "              128 (108) <b>image</b>: 217583047.jpg\n",
       "<br/>\n",
       "              <img src=./static/images/217583047.jpg\n",
       " width=\"300px\"><br/>\n",
       "              A woman in a bathing suit is sitting on a body of water\n",
       "<br/>\n",
       "              <b>categories</b>:gender, type of clothing, position\n",
       "              </center>"
      ],
      "text/plain": [
       "<IPython.core.display.HTML object>"
      ]
     },
     "metadata": {},
     "output_type": "display_data"
    },
    {
     "data": {
      "text/html": [
       "<center>\n",
       "              138 (114) <b>image</b>: 2212472643.jpg\n",
       "<br/>\n",
       "              <img src=./static/images/2212472643.jpg\n",
       " width=\"300px\"><br/>\n",
       "              A young girl in a green shirt is playing in a chair\n",
       "<br/>\n",
       "              <b>categories</b>:gender, type of clothing, position\n",
       "              </center>"
      ],
      "text/plain": [
       "<IPython.core.display.HTML object>"
      ]
     },
     "metadata": {},
     "output_type": "display_data"
    },
    {
     "data": {
      "text/html": [
       "<center>\n",
       "              145 (119) <b>image</b>: 2250479700.jpg\n",
       "<br/>\n",
       "              <img src=./static/images/2250479700.jpg\n",
       " width=\"300px\"><br/>\n",
       "              A man in a striped shirt and a man in a red shirt are playing music\n",
       "<br/>\n",
       "              <b>categories</b>:gender, activity, color of clothing\n",
       "              </center>"
      ],
      "text/plain": [
       "<IPython.core.display.HTML object>"
      ]
     },
     "metadata": {},
     "output_type": "display_data"
    },
    {
     "data": {
      "text/html": [
       "<center>\n",
       "              182 (147) <b>image</b>: 241347580.jpg\n",
       "<br/>\n",
       "              <img src=./static/images/241347580.jpg\n",
       " width=\"300px\"><br/>\n",
       "              A woman in a red shirt is sitting on a bench\n",
       "<br/>\n",
       "              <b>categories</b>:age, position, number\n",
       "              </center>"
      ],
      "text/plain": [
       "<IPython.core.display.HTML object>"
      ]
     },
     "metadata": {},
     "output_type": "display_data"
    },
    {
     "data": {
      "text/html": [
       "<center>\n",
       "              209 (169) <b>image</b>: 2511787709.jpg\n",
       "<br/>\n",
       "              <img src=./static/images/2511787709.jpg\n",
       " width=\"300px\"><br/>\n",
       "              A woman in a blue shirt and a woman in a black shirt are sitting on a wall\n",
       "<br/>\n",
       "              <b>categories</b>:age, stance, scene/event/location\n",
       "              </center>"
      ],
      "text/plain": [
       "<IPython.core.display.HTML object>"
      ]
     },
     "metadata": {},
     "output_type": "display_data"
    },
    {
     "data": {
      "text/html": [
       "<center>\n",
       "              229 (183) <b>image</b>: 2597088734.jpg\n",
       "<br/>\n",
       "              <img src=./static/images/2597088734.jpg\n",
       " width=\"300px\"><br/>\n",
       "              A little girl in a pink shirt is playing with a toy in the air\n",
       "<br/>\n",
       "              <b>categories</b>:similar-object, activity, color of clothing\n",
       "              </center>"
      ],
      "text/plain": [
       "<IPython.core.display.HTML object>"
      ]
     },
     "metadata": {},
     "output_type": "display_data"
    },
    {
     "data": {
      "text/html": [
       "<center>\n",
       "              241 (192) <b>image</b>: 2647394564.jpg\n",
       "<br/>\n",
       "              <img src=./static/images/2647394564.jpg\n",
       " width=\"300px\"><br/>\n",
       "              A man in a white shirt is sitting on a bed\n",
       "<br/>\n",
       "              <b>categories</b>:stance, position, color of clothing\n",
       "              </center>"
      ],
      "text/plain": [
       "<IPython.core.display.HTML object>"
      ]
     },
     "metadata": {},
     "output_type": "display_data"
    },
    {
     "data": {
      "text/html": [
       "<center>\n",
       "              262 (208) <b>image</b>: 2766630484.jpg\n",
       "<br/>\n",
       "              <img src=./static/images/2766630484.jpg\n",
       " width=\"300px\"><br/>\n",
       "              A brown and brown dog plays with a stick\n",
       "<br/>\n",
       "              <b>categories</b>:activity, inexistent-object, color\n",
       "              </center>"
      ],
      "text/plain": [
       "<IPython.core.display.HTML object>"
      ]
     },
     "metadata": {},
     "output_type": "display_data"
    },
    {
     "data": {
      "text/html": [
       "<center>\n",
       "              264 (210) <b>image</b>: 2774025309.jpg\n",
       "<br/>\n",
       "              <img src=./static/images/2774025309.jpg\n",
       " width=\"300px\"><br/>\n",
       "              A man and a woman are sitting on the ground with a man in the background\n",
       "<br/>\n",
       "              <b>categories</b>:age, gender, other\n",
       "              </center>"
      ],
      "text/plain": [
       "<IPython.core.display.HTML object>"
      ]
     },
     "metadata": {},
     "output_type": "display_data"
    },
    {
     "data": {
      "text/html": [
       "<center>\n",
       "              302 (241) <b>image</b>: 2997191641.jpg\n",
       "<br/>\n",
       "              <img src=./static/images/2997191641.jpg\n",
       " width=\"300px\"><br/>\n",
       "              A little girl in a blue shirt is playing a guitar\n",
       "<br/>\n",
       "              <b>categories</b>:activity, inexistent-object, color of clothing\n",
       "              </center>"
      ],
      "text/plain": [
       "<IPython.core.display.HTML object>"
      ]
     },
     "metadata": {},
     "output_type": "display_data"
    },
    {
     "data": {
      "text/html": [
       "<center>\n",
       "              305 (244) <b>image</b>: 300438143.jpg\n",
       "<br/>\n",
       "              <img src=./static/images/300438143.jpg\n",
       " width=\"300px\"><br/>\n",
       "              A man in a blue shirt and a man in a blue shirt are working in a kitchen\n",
       "<br/>\n",
       "              <b>categories</b>:scene/event/location, type of clothing, color of clothing\n",
       "              </center>"
      ],
      "text/plain": [
       "<IPython.core.display.HTML object>"
      ]
     },
     "metadata": {},
     "output_type": "display_data"
    },
    {
     "data": {
      "text/html": [
       "<center>\n",
       "              312 (249) <b>image</b>: 3023753964.jpg\n",
       "<br/>\n",
       "              <img src=./static/images/3023753964.jpg\n",
       " width=\"300px\"><br/>\n",
       "              A woman in a plaid shirt is holding a woman in a black shirt\n",
       "<br/>\n",
       "              <b>categories</b>:activity, type of clothing, color of clothing\n",
       "              </center>"
      ],
      "text/plain": [
       "<IPython.core.display.HTML object>"
      ]
     },
     "metadata": {},
     "output_type": "display_data"
    },
    {
     "data": {
      "text/html": [
       "<center>\n",
       "              318 (254) <b>image</b>: 3037108254.jpg\n",
       "<br/>\n",
       "              <img src=./static/images/3037108254.jpg\n",
       " width=\"300px\"><br/>\n",
       "              A man in a suit is talking to a man in a suit\n",
       "<br/>\n",
       "              <b>categories</b>:gender, activity, type of clothing\n",
       "              </center>"
      ],
      "text/plain": [
       "<IPython.core.display.HTML object>"
      ]
     },
     "metadata": {},
     "output_type": "display_data"
    },
    {
     "data": {
      "text/html": [
       "<center>\n",
       "              330 (264) <b>image</b>: 3088572348.jpg\n",
       "<br/>\n",
       "              <img src=./static/images/3088572348.jpg\n",
       " width=\"300px\"><br/>\n",
       "              A man in a blue shirt is riding a blue surfboard\n",
       "<br/>\n",
       "              <b>categories</b>:type of clothing, color, color of clothing\n",
       "              </center>"
      ],
      "text/plain": [
       "<IPython.core.display.HTML object>"
      ]
     },
     "metadata": {},
     "output_type": "display_data"
    },
    {
     "data": {
      "text/html": [
       "<center>\n",
       "              332 (266) <b>image</b>: 3091962081.jpg\n",
       "<br/>\n",
       "              <img src=./static/images/3091962081.jpg\n",
       " width=\"300px\"><br/>\n",
       "              A man in a black jacket and a man in a black jacket are sitting on a bench\n",
       "<br/>\n",
       "              <b>categories</b>:scene/event/location, type of clothing, extra subject\n",
       "              </center>"
      ],
      "text/plain": [
       "<IPython.core.display.HTML object>"
      ]
     },
     "metadata": {},
     "output_type": "display_data"
    },
    {
     "data": {
      "text/html": [
       "<center>\n",
       "              334 (268) <b>image</b>: 3093744301.jpg\n",
       "<br/>\n",
       "              <img src=./static/images/3093744301.jpg\n",
       " width=\"300px\"><br/>\n",
       "              A man in a black jacket is walking down the street\n",
       "<br/>\n",
       "              <b>categories</b>:type of clothing, color of clothing, number\n",
       "              </center>"
      ],
      "text/plain": [
       "<IPython.core.display.HTML object>"
      ]
     },
     "metadata": {},
     "output_type": "display_data"
    },
    {
     "data": {
      "text/html": [
       "<center>\n",
       "              351 (279) <b>image</b>: 3157039116.jpg\n",
       "<br/>\n",
       "              <img src=./static/images/3157039116.jpg\n",
       " width=\"300px\"><br/>\n",
       "              A man in a blue shirt and black shorts is walking down a snowy hill\n",
       "<br/>\n",
       "              <b>categories</b>:age, activity, position\n",
       "              </center>"
      ],
      "text/plain": [
       "<IPython.core.display.HTML object>"
      ]
     },
     "metadata": {},
     "output_type": "display_data"
    },
    {
     "data": {
      "text/html": [
       "<center>\n",
       "              355 (282) <b>image</b>: 3179952488.jpg\n",
       "<br/>\n",
       "              <img src=./static/images/3179952488.jpg\n",
       " width=\"300px\"><br/>\n",
       "              A man in a white shirt and a woman in a white shirt are standing in front of a building\n",
       "<br/>\n",
       "              <b>categories</b>:other, color of clothing, number\n",
       "              </center>"
      ],
      "text/plain": [
       "<IPython.core.display.HTML object>"
      ]
     },
     "metadata": {},
     "output_type": "display_data"
    },
    {
     "data": {
      "text/html": [
       "<center>\n",
       "              364 (289) <b>image</b>: 3215238223.jpg\n",
       "<br/>\n",
       "              <img src=./static/images/3215238223.jpg\n",
       " width=\"300px\"><br/>\n",
       "              A man in a white shirt is standing in front of a building\n",
       "<br/>\n",
       "              <b>categories</b>:stance, activity, color of clothing\n",
       "              </center>"
      ],
      "text/plain": [
       "<IPython.core.display.HTML object>"
      ]
     },
     "metadata": {},
     "output_type": "display_data"
    },
    {
     "data": {
      "text/html": [
       "<center>\n",
       "              386 (308) <b>image</b>: 3304763517.jpg\n",
       "<br/>\n",
       "              <img src=./static/images/3304763517.jpg\n",
       " width=\"300px\"><br/>\n",
       "              A little boy in a blue shirt is holding a red balloon\n",
       "<br/>\n",
       "              <b>categories</b>:gender, similar-object, color of clothing\n",
       "              </center>"
      ],
      "text/plain": [
       "<IPython.core.display.HTML object>"
      ]
     },
     "metadata": {},
     "output_type": "display_data"
    },
    {
     "data": {
      "text/html": [
       "<center>\n",
       "              388 (310) <b>image</b>: 3310851569.jpg\n",
       "<br/>\n",
       "              <img src=./static/images/3310851569.jpg\n",
       " width=\"300px\"><br/>\n",
       "              A man in a black shirt and a man in a black shirt are dancing in front of a microphone\n",
       "<br/>\n",
       "              <b>categories</b>:gender, activity, color of clothing\n",
       "              </center>"
      ],
      "text/plain": [
       "<IPython.core.display.HTML object>"
      ]
     },
     "metadata": {},
     "output_type": "display_data"
    },
    {
     "data": {
      "text/html": [
       "<center>\n",
       "              400 (320) <b>image</b>: 3340639621.jpg\n",
       "<br/>\n",
       "              <img src=./static/images/3340639621.jpg\n",
       " width=\"300px\"><br/>\n",
       "              A man in a blue shirt is talking to a woman in a blue shirt\n",
       "<br/>\n",
       "              <b>categories</b>:age, type of clothing, color of clothing\n",
       "              </center>"
      ],
      "text/plain": [
       "<IPython.core.display.HTML object>"
      ]
     },
     "metadata": {},
     "output_type": "display_data"
    },
    {
     "data": {
      "text/html": [
       "<center>\n",
       "              414 (330) <b>image</b>: 3385430506.jpg\n",
       "<br/>\n",
       "              <img src=./static/images/3385430506.jpg\n",
       " width=\"300px\"><br/>\n",
       "              A man in a white shirt and white shorts is riding a bicycle\n",
       "<br/>\n",
       "              <b>categories</b>:gender, type of clothing, color of clothing\n",
       "              </center>"
      ],
      "text/plain": [
       "<IPython.core.display.HTML object>"
      ]
     },
     "metadata": {},
     "output_type": "display_data"
    },
    {
     "data": {
      "text/html": [
       "<center>\n",
       "              463 (370) <b>image</b>: 3553374585.jpg\n",
       "<br/>\n",
       "              <img src=./static/images/3553374585.jpg\n",
       " width=\"300px\"><br/>\n",
       "              A man in a white shirt and a woman in a white shirt are standing on a beach\n",
       "<br/>\n",
       "              <b>categories</b>:scene/event/location, extra subject, number\n",
       "              </center>"
      ],
      "text/plain": [
       "<IPython.core.display.HTML object>"
      ]
     },
     "metadata": {},
     "output_type": "display_data"
    },
    {
     "data": {
      "text/html": [
       "<center>\n",
       "              467 (373) <b>image</b>: 3569329986.jpg\n",
       "<br/>\n",
       "              <img src=./static/images/3569329986.jpg\n",
       " width=\"300px\"><br/>\n",
       "              A little girl in a pink shirt is sitting on the grass\n",
       "<br/>\n",
       "              <b>categories</b>:stance, type of clothing, color of clothing\n",
       "              </center>"
      ],
      "text/plain": [
       "<IPython.core.display.HTML object>"
      ]
     },
     "metadata": {},
     "output_type": "display_data"
    },
    {
     "data": {
      "text/html": [
       "<center>\n",
       "              485 (385) <b>image</b>: 3619232550.jpg\n",
       "<br/>\n",
       "              <img src=./static/images/3619232550.jpg\n",
       " width=\"300px\"><br/>\n",
       "              Two men are playing a guitar\n",
       "<br/>\n",
       "              <b>categories</b>:similar-object, activity, number\n",
       "              </center>"
      ],
      "text/plain": [
       "<IPython.core.display.HTML object>"
      ]
     },
     "metadata": {},
     "output_type": "display_data"
    },
    {
     "data": {
      "text/html": [
       "<center>\n",
       "              488 (388) <b>image</b>: 3630332976.jpg\n",
       "<br/>\n",
       "              <img src=./static/images/3630332976.jpg\n",
       " width=\"300px\"><br/>\n",
       "              A man in a red shirt is holding a camera\n",
       "<br/>\n",
       "              <b>categories</b>:age, activity, inexistent-object\n",
       "              </center>"
      ],
      "text/plain": [
       "<IPython.core.display.HTML object>"
      ]
     },
     "metadata": {},
     "output_type": "display_data"
    },
    {
     "data": {
      "text/html": [
       "<center>\n",
       "              489 (389) <b>image</b>: 3634828052.jpg\n",
       "<br/>\n",
       "              <img src=./static/images/3634828052.jpg\n",
       " width=\"300px\"><br/>\n",
       "              A man in a pink shirt and a woman in a pink shirt are standing on a street\n",
       "<br/>\n",
       "              <b>categories</b>:type of clothing, color of clothing, extra subject\n",
       "              </center>"
      ],
      "text/plain": [
       "<IPython.core.display.HTML object>"
      ]
     },
     "metadata": {},
     "output_type": "display_data"
    },
    {
     "data": {
      "text/html": [
       "<center>\n",
       "              543 (433) <b>image</b>: 383595746.jpg\n",
       "<br/>\n",
       "              <img src=./static/images/383595746.jpg\n",
       " width=\"300px\"><br/>\n",
       "              A man in a red shirt is holding a sign\n",
       "<br/>\n",
       "              <b>categories</b>:activity, type of clothing, inexistent-object\n",
       "              </center>"
      ],
      "text/plain": [
       "<IPython.core.display.HTML object>"
      ]
     },
     "metadata": {},
     "output_type": "display_data"
    },
    {
     "data": {
      "text/html": [
       "<center>\n",
       "              550 (439) <b>image</b>: 3867308040.jpg\n",
       "<br/>\n",
       "              <img src=./static/images/3867308040.jpg\n",
       " width=\"300px\"><br/>\n",
       "              A man in a blue shirt is sitting on a beach\n",
       "<br/>\n",
       "              <b>categories</b>:gender, color of clothing, number\n",
       "              </center>"
      ],
      "text/plain": [
       "<IPython.core.display.HTML object>"
      ]
     },
     "metadata": {},
     "output_type": "display_data"
    },
    {
     "data": {
      "text/html": [
       "<center>\n",
       "              559 (448) <b>image</b>: 3927396708.jpg\n",
       "<br/>\n",
       "              <img src=./static/images/3927396708.jpg\n",
       " width=\"300px\"><br/>\n",
       "              A woman in a black shirt is standing in front of a brown and white dog\n",
       "<br/>\n",
       "              <b>categories</b>:similar-object, position, number\n",
       "              </center>"
      ],
      "text/plain": [
       "<IPython.core.display.HTML object>"
      ]
     },
     "metadata": {},
     "output_type": "display_data"
    },
    {
     "data": {
      "text/html": [
       "<center>\n",
       "              574 (462) <b>image</b>: 4060351788.jpg\n",
       "<br/>\n",
       "              <img src=./static/images/4060351788.jpg\n",
       " width=\"300px\"><br/>\n",
       "              A woman in a red shirt and white shorts is jumping on the floor\n",
       "<br/>\n",
       "              <b>categories</b>:activity, type of clothing, color of clothing\n",
       "              </center>"
      ],
      "text/plain": [
       "<IPython.core.display.HTML object>"
      ]
     },
     "metadata": {},
     "output_type": "display_data"
    },
    {
     "data": {
      "text/html": [
       "<center>\n",
       "              603 (484) <b>image</b>: 4329179652.jpg\n",
       "<br/>\n",
       "              <img src=./static/images/4329179652.jpg\n",
       " width=\"300px\"><br/>\n",
       "              A woman in a white shirt and a woman in a white shirt are standing in a circle\n",
       "<br/>\n",
       "              <b>categories</b>:stance, other, type of clothing\n",
       "              </center>"
      ],
      "text/plain": [
       "<IPython.core.display.HTML object>"
      ]
     },
     "metadata": {},
     "output_type": "display_data"
    },
    {
     "data": {
      "text/html": [
       "<center>\n",
       "              613 (493) <b>image</b>: 439348091.jpg\n",
       "<br/>\n",
       "              <img src=./static/images/439348091.jpg\n",
       " width=\"300px\"><br/>\n",
       "              A man in a white shirt and a woman in a white dress are standing in front of a building\n",
       "<br/>\n",
       "              <b>categories</b>:gender, type of clothing, position\n",
       "              </center>"
      ],
      "text/plain": [
       "<IPython.core.display.HTML object>"
      ]
     },
     "metadata": {},
     "output_type": "display_data"
    },
    {
     "data": {
      "text/html": [
       "<center>\n",
       "              616 (496) <b>image</b>: 4407490214.jpg\n",
       "<br/>\n",
       "              <img src=./static/images/4407490214.jpg\n",
       " width=\"300px\"><br/>\n",
       "              A man in a white shirt and a woman in a white shirt are dancing\n",
       "<br/>\n",
       "              <b>categories</b>:age, type of clothing, color of clothing\n",
       "              </center>"
      ],
      "text/plain": [
       "<IPython.core.display.HTML object>"
      ]
     },
     "metadata": {},
     "output_type": "display_data"
    },
    {
     "data": {
      "text/html": [
       "<center>\n",
       "              624 (503) <b>image</b>: 4442442651.jpg\n",
       "<br/>\n",
       "              <img src=./static/images/4442442651.jpg\n",
       " width=\"300px\"><br/>\n",
       "              A girl in a red shirt is jumping over a swing\n",
       "<br/>\n",
       "              <b>categories</b>:activity, type of clothing, inexistent-object\n",
       "              </center>"
      ],
      "text/plain": [
       "<IPython.core.display.HTML object>"
      ]
     },
     "metadata": {},
     "output_type": "display_data"
    },
    {
     "data": {
      "text/html": [
       "<center>\n",
       "              669 (539) <b>image</b>: 4576671.jpg\n",
       "<br/>\n",
       "              <img src=./static/images/4576671.jpg\n",
       " width=\"300px\"><br/>\n",
       "              A woman in a red shirt is holding a red bag\n",
       "<br/>\n",
       "              <b>categories</b>:activity, type of clothing, color of clothing\n",
       "              </center>"
      ],
      "text/plain": [
       "<IPython.core.display.HTML object>"
      ]
     },
     "metadata": {},
     "output_type": "display_data"
    },
    {
     "data": {
      "text/html": [
       "<center>\n",
       "              686 (554) <b>image</b>: 4655361417.jpg\n",
       "<br/>\n",
       "              <img src=./static/images/4655361417.jpg\n",
       " width=\"300px\"><br/>\n",
       "              A man wearing a black shirt and black pants is playing a guitar\n",
       "<br/>\n",
       "              <b>categories</b>:activity, other, inexistent-object\n",
       "              </center>"
      ],
      "text/plain": [
       "<IPython.core.display.HTML object>"
      ]
     },
     "metadata": {},
     "output_type": "display_data"
    },
    {
     "data": {
      "text/html": [
       "<center>\n",
       "              688 (556) <b>image</b>: 4656225038.jpg\n",
       "<br/>\n",
       "              <img src=./static/images/4656225038.jpg\n",
       " width=\"300px\"><br/>\n",
       "              A woman in a black shirt is standing in a park\n",
       "<br/>\n",
       "              <b>categories</b>:age, stance, position\n",
       "              </center>"
      ],
      "text/plain": [
       "<IPython.core.display.HTML object>"
      ]
     },
     "metadata": {},
     "output_type": "display_data"
    },
    {
     "data": {
      "text/html": [
       "<center>\n",
       "              701 (567) <b>image</b>: 4686363111.jpg\n",
       "<br/>\n",
       "              <img src=./static/images/4686363111.jpg\n",
       " width=\"300px\"><br/>\n",
       "              A man in a black jacket is standing on a beach\n",
       "<br/>\n",
       "              <b>categories</b>:stance, type of clothing, color of clothing\n",
       "              </center>"
      ],
      "text/plain": [
       "<IPython.core.display.HTML object>"
      ]
     },
     "metadata": {},
     "output_type": "display_data"
    },
    {
     "data": {
      "text/html": [
       "<center>\n",
       "              713 (572) <b>image</b>: 4699461776.jpg\n",
       "<br/>\n",
       "              <img src=./static/images/4699461776.jpg\n",
       " width=\"300px\"><br/>\n",
       "              A man in a red shirt is walking down a sidewalk\n",
       "<br/>\n",
       "              <b>categories</b>:gender, activity, type of clothing\n",
       "              </center>"
      ],
      "text/plain": [
       "<IPython.core.display.HTML object>"
      ]
     },
     "metadata": {},
     "output_type": "display_data"
    },
    {
     "data": {
      "text/html": [
       "<center>\n",
       "              721 (580) <b>image</b>: 4731709586.jpg\n",
       "<br/>\n",
       "              <img src=./static/images/4731709586.jpg\n",
       " width=\"300px\"><br/>\n",
       "              A woman in a pink shirt is holding a clown\n",
       "<br/>\n",
       "              <b>categories</b>:activity, type of clothing, color of clothing\n",
       "              </center>"
      ],
      "text/plain": [
       "<IPython.core.display.HTML object>"
      ]
     },
     "metadata": {},
     "output_type": "display_data"
    },
    {
     "data": {
      "text/html": [
       "<center>\n",
       "              722 (581) <b>image</b>: 473592754.jpg\n",
       "<br/>\n",
       "              <img src=./static/images/473592754.jpg\n",
       " width=\"300px\"><br/>\n",
       "              A man in a blue shirt and blue jeans is standing in front of a building\n",
       "<br/>\n",
       "              <b>categories</b>:activity, type of clothing, color of clothing\n",
       "              </center>"
      ],
      "text/plain": [
       "<IPython.core.display.HTML object>"
      ]
     },
     "metadata": {},
     "output_type": "display_data"
    },
    {
     "data": {
      "text/html": [
       "<center>\n",
       "              753 (606) <b>image</b>: 4803941821.jpg\n",
       "<br/>\n",
       "              <img src=./static/images/4803941821.jpg\n",
       " width=\"300px\"><br/>\n",
       "              A man in a white shirt and jeans is sitting on a bench\n",
       "<br/>\n",
       "              <b>categories</b>:similar-object, type of clothing, color of clothing\n",
       "              </center>"
      ],
      "text/plain": [
       "<IPython.core.display.HTML object>"
      ]
     },
     "metadata": {},
     "output_type": "display_data"
    },
    {
     "data": {
      "text/html": [
       "<center>\n",
       "              760 (611) <b>image</b>: 4826608043.jpg\n",
       "<br/>\n",
       "              <img src=./static/images/4826608043.jpg\n",
       " width=\"300px\"><br/>\n",
       "              A man in a green shirt and a woman in a blue shirt are walking down a path\n",
       "<br/>\n",
       "              <b>categories</b>:gender, activity, color of clothing\n",
       "              </center>"
      ],
      "text/plain": [
       "<IPython.core.display.HTML object>"
      ]
     },
     "metadata": {},
     "output_type": "display_data"
    },
    {
     "data": {
      "text/html": [
       "<center>\n",
       "              773 (621) <b>image</b>: 4871416563.jpg\n",
       "<br/>\n",
       "              <img src=./static/images/4871416563.jpg\n",
       " width=\"300px\"><br/>\n",
       "              A woman in a blue shirt is holding a pink umbrella\n",
       "<br/>\n",
       "              <b>categories</b>:type of clothing, color, color of clothing\n",
       "              </center>"
      ],
      "text/plain": [
       "<IPython.core.display.HTML object>"
      ]
     },
     "metadata": {},
     "output_type": "display_data"
    },
    {
     "data": {
      "text/html": [
       "<center>\n",
       "              781 (628) <b>image</b>: 4889084974.jpg\n",
       "<br/>\n",
       "              <img src=./static/images/4889084974.jpg\n",
       " width=\"300px\"><br/>\n",
       "              Two construction workers are working on a wall\n",
       "<br/>\n",
       "              <b>categories</b>:activity, inexistent-object, number\n",
       "              </center>"
      ],
      "text/plain": [
       "<IPython.core.display.HTML object>"
      ]
     },
     "metadata": {},
     "output_type": "display_data"
    },
    {
     "data": {
      "text/html": [
       "<center>\n",
       "              811 (653) <b>image</b>: 4960801678.jpg\n",
       "<br/>\n",
       "              <img src=./static/images/4960801678.jpg\n",
       " width=\"300px\"><br/>\n",
       "              A man in a black shirt and blue pants is jumping over a brick wall\n",
       "<br/>\n",
       "              <b>categories</b>:activity, inexistent-object, color of clothing\n",
       "              </center>"
      ],
      "text/plain": [
       "<IPython.core.display.HTML object>"
      ]
     },
     "metadata": {},
     "output_type": "display_data"
    },
    {
     "data": {
      "text/html": [
       "<center>\n",
       "              812 (654) <b>image</b>: 496418696.jpg\n",
       "<br/>\n",
       "              <img src=./static/images/496418696.jpg\n",
       " width=\"300px\"><br/>\n",
       "              A man in a white shirt is walking down a street\n",
       "<br/>\n",
       "              <b>categories</b>:activity, type of clothing, color of clothing\n",
       "              </center>"
      ],
      "text/plain": [
       "<IPython.core.display.HTML object>"
      ]
     },
     "metadata": {},
     "output_type": "display_data"
    },
    {
     "data": {
      "text/html": [
       "<center>\n",
       "              853 (690) <b>image</b>: 5387261695.jpg\n",
       "<br/>\n",
       "              <img src=./static/images/5387261695.jpg\n",
       " width=\"300px\"><br/>\n",
       "              A man wearing a green shirt and a green shirt is working on a rock\n",
       "<br/>\n",
       "              <b>categories</b>:gender, type of clothing, inexistent-object\n",
       "              </center>"
      ],
      "text/plain": [
       "<IPython.core.display.HTML object>"
      ]
     },
     "metadata": {},
     "output_type": "display_data"
    },
    {
     "data": {
      "text/html": [
       "<center>\n",
       "              855 (691) <b>image</b>: 5403974988.jpg\n",
       "<br/>\n",
       "              <img src=./static/images/5403974988.jpg\n",
       " width=\"300px\"><br/>\n",
       "              A little girl wearing a blue jacket and blue jeans is standing in a tent\n",
       "<br/>\n",
       "              <b>categories</b>:scene/event/location, gender, type of clothing\n",
       "              </center>"
      ],
      "text/plain": [
       "<IPython.core.display.HTML object>"
      ]
     },
     "metadata": {},
     "output_type": "display_data"
    },
    {
     "data": {
      "text/html": [
       "<center>\n",
       "              860 (695) <b>image</b>: 5468460528.jpg\n",
       "<br/>\n",
       "              <img src=./static/images/5468460528.jpg\n",
       " width=\"300px\"><br/>\n",
       "              A woman in a black shirt is looking at a window\n",
       "<br/>\n",
       "              <b>categories</b>:other, type of clothing, color of clothing\n",
       "              </center>"
      ],
      "text/plain": [
       "<IPython.core.display.HTML object>"
      ]
     },
     "metadata": {},
     "output_type": "display_data"
    },
    {
     "data": {
      "text/html": [
       "<center>\n",
       "              861 (696) <b>image</b>: 5501340599.jpg\n",
       "<br/>\n",
       "              <img src=./static/images/5501340599.jpg\n",
       " width=\"300px\"><br/>\n",
       "              A little girl in a pink shirt is holding a cake in a kitchen\n",
       "<br/>\n",
       "              <b>categories</b>:activity, inexistent-object, color of clothing\n",
       "              </center>"
      ],
      "text/plain": [
       "<IPython.core.display.HTML object>"
      ]
     },
     "metadata": {},
     "output_type": "display_data"
    },
    {
     "data": {
      "text/html": [
       "<center>\n",
       "              862 (697) <b>image</b>: 5507574163.jpg\n",
       "<br/>\n",
       "              <img src=./static/images/5507574163.jpg\n",
       " width=\"300px\"><br/>\n",
       "              A blond woman in a white shirt is blowing her teeth\n",
       "<br/>\n",
       "              <b>categories</b>:gender, activity, color of clothing\n",
       "              </center>"
      ],
      "text/plain": [
       "<IPython.core.display.HTML object>"
      ]
     },
     "metadata": {},
     "output_type": "display_data"
    },
    {
     "data": {
      "text/html": [
       "<center>\n",
       "              864 (698) <b>image</b>: 5534272962.jpg\n",
       "<br/>\n",
       "              <img src=./static/images/5534272962.jpg\n",
       " width=\"300px\"><br/>\n",
       "              A man and a man are riding a horse\n",
       "<br/>\n",
       "              <b>categories</b>:gender, extra subject, number\n",
       "              </center>"
      ],
      "text/plain": [
       "<IPython.core.display.HTML object>"
      ]
     },
     "metadata": {},
     "output_type": "display_data"
    },
    {
     "data": {
      "text/html": [
       "<center>\n",
       "              867 (700) <b>image</b>: 561906323.jpg\n",
       "<br/>\n",
       "              <img src=./static/images/561906323.jpg\n",
       " width=\"300px\"><br/>\n",
       "              A man in a white shirt is talking to a man in a white shirt\n",
       "<br/>\n",
       "              <b>categories</b>:gender, activity, color of clothing\n",
       "              </center>"
      ],
      "text/plain": [
       "<IPython.core.display.HTML object>"
      ]
     },
     "metadata": {},
     "output_type": "display_data"
    },
    {
     "data": {
      "text/html": [
       "<center>\n",
       "              870 (703) <b>image</b>: 570996053.jpg\n",
       "<br/>\n",
       "              <img src=./static/images/570996053.jpg\n",
       " width=\"300px\"><br/>\n",
       "              A man in a green shirt and a red shirt is working on a swing\n",
       "<br/>\n",
       "              <b>categories</b>:activity, other, inexistent-object\n",
       "              </center>"
      ],
      "text/plain": [
       "<IPython.core.display.HTML object>"
      ]
     },
     "metadata": {},
     "output_type": "display_data"
    },
    {
     "data": {
      "text/html": [
       "<center>\n",
       "              877 (710) <b>image</b>: 5840232264.jpg\n",
       "<br/>\n",
       "              <img src=./static/images/5840232264.jpg\n",
       " width=\"300px\"><br/>\n",
       "              A man in a black shirt and black shorts is playing a basketball\n",
       "<br/>\n",
       "              <b>categories</b>:activity, type of clothing, color of clothing\n",
       "              </center>"
      ],
      "text/plain": [
       "<IPython.core.display.HTML object>"
      ]
     },
     "metadata": {},
     "output_type": "display_data"
    },
    {
     "data": {
      "text/html": [
       "<center>\n",
       "              880 (713) <b>image</b>: 5920741851.jpg\n",
       "<br/>\n",
       "              <img src=./static/images/5920741851.jpg\n",
       " width=\"300px\"><br/>\n",
       "              A woman in a red shirt is sweeping the street\n",
       "<br/>\n",
       "              <b>categories</b>:gender, type of clothing, color of clothing\n",
       "              </center>"
      ],
      "text/plain": [
       "<IPython.core.display.HTML object>"
      ]
     },
     "metadata": {},
     "output_type": "display_data"
    },
    {
     "data": {
      "text/html": [
       "<center>\n",
       "              881 (714) <b>image</b>: 5932908042.jpg\n",
       "<br/>\n",
       "              <img src=./static/images/5932908042.jpg\n",
       " width=\"300px\"><br/>\n",
       "              A man in a blue shirt is looking at a microscope\n",
       "<br/>\n",
       "              <b>categories</b>:activity, inexistent-object, color of clothing\n",
       "              </center>"
      ],
      "text/plain": [
       "<IPython.core.display.HTML object>"
      ]
     },
     "metadata": {},
     "output_type": "display_data"
    },
    {
     "data": {
      "text/html": [
       "<center>\n",
       "              899 (727) <b>image</b>: 6192034820.jpg\n",
       "<br/>\n",
       "              <img src=./static/images/6192034820.jpg\n",
       " width=\"300px\"><br/>\n",
       "              A man in a black jacket and a black hat is holding a guitar\n",
       "<br/>\n",
       "              <b>categories</b>:type of clothing, inexistent-object, color of clothing\n",
       "              </center>"
      ],
      "text/plain": [
       "<IPython.core.display.HTML object>"
      ]
     },
     "metadata": {},
     "output_type": "display_data"
    },
    {
     "data": {
      "text/html": [
       "<center>\n",
       "              901 (729) <b>image</b>: 6210888137.jpg\n",
       "<br/>\n",
       "              <img src=./static/images/6210888137.jpg\n",
       " width=\"300px\"><br/>\n",
       "              A woman in a blue shirt is walking down a street\n",
       "<br/>\n",
       "              <b>categories</b>:gender, type of clothing, color of clothing\n",
       "              </center>"
      ],
      "text/plain": [
       "<IPython.core.display.HTML object>"
      ]
     },
     "metadata": {},
     "output_type": "display_data"
    },
    {
     "data": {
      "text/html": [
       "<center>\n",
       "              905 (732) <b>image</b>: 62597667.jpg\n",
       "<br/>\n",
       "              <img src=./static/images/62597667.jpg\n",
       " width=\"300px\"><br/>\n",
       "              A woman in a blue shirt and a woman in a blue shirt are sitting on a floor\n",
       "<br/>\n",
       "              <b>categories</b>:stance, other, color of clothing\n",
       "              </center>"
      ],
      "text/plain": [
       "<IPython.core.display.HTML object>"
      ]
     },
     "metadata": {},
     "output_type": "display_data"
    },
    {
     "data": {
      "text/html": [
       "<center>\n",
       "              907 (734) <b>image</b>: 6273590324.jpg\n",
       "<br/>\n",
       "              <img src=./static/images/6273590324.jpg\n",
       " width=\"300px\"><br/>\n",
       "              A young man in a white shirt is holding a camera\n",
       "<br/>\n",
       "              <b>categories</b>:gender, activity, inexistent-object\n",
       "              </center>"
      ],
      "text/plain": [
       "<IPython.core.display.HTML object>"
      ]
     },
     "metadata": {},
     "output_type": "display_data"
    },
    {
     "data": {
      "text/html": [
       "<center>\n",
       "              915 (740) <b>image</b>: 6386779555.jpg\n",
       "<br/>\n",
       "              <img src=./static/images/6386779555.jpg\n",
       " width=\"300px\"><br/>\n",
       "              A man in a black shirt and black shorts is running down the street\n",
       "<br/>\n",
       "              <b>categories</b>:scene/event/location, activity, color of clothing\n",
       "              </center>"
      ],
      "text/plain": [
       "<IPython.core.display.HTML object>"
      ]
     },
     "metadata": {},
     "output_type": "display_data"
    },
    {
     "data": {
      "text/html": [
       "<center>\n",
       "              924 (746) <b>image</b>: 6533934303.jpg\n",
       "<br/>\n",
       "              <img src=./static/images/6533934303.jpg\n",
       " width=\"300px\"><br/>\n",
       "              A man in a white shirt and white pants is playing tennis\n",
       "<br/>\n",
       "              <b>categories</b>:age, activity, type of clothing\n",
       "              </center>"
      ],
      "text/plain": [
       "<IPython.core.display.HTML object>"
      ]
     },
     "metadata": {},
     "output_type": "display_data"
    },
    {
     "data": {
      "text/html": [
       "<center>\n",
       "              928 (750) <b>image</b>: 664341930.jpg\n",
       "<br/>\n",
       "              <img src=./static/images/664341930.jpg\n",
       " width=\"300px\"><br/>\n",
       "              A young girl in a red shirt is jumping on a bed\n",
       "<br/>\n",
       "              <b>categories</b>:scene/event/location, gender, color of clothing\n",
       "              </center>"
      ],
      "text/plain": [
       "<IPython.core.display.HTML object>"
      ]
     },
     "metadata": {},
     "output_type": "display_data"
    },
    {
     "data": {
      "text/html": [
       "<center>\n",
       "              930 (752) <b>image</b>: 6662693149.jpg\n",
       "<br/>\n",
       "              <img src=./static/images/6662693149.jpg\n",
       " width=\"300px\"><br/>\n",
       "              A man in a blue shirt is sitting at a table in front of a crowd of people\n",
       "<br/>\n",
       "              <b>categories</b>:scene/event/location, type of clothing, color of clothing\n",
       "              </center>"
      ],
      "text/plain": [
       "<IPython.core.display.HTML object>"
      ]
     },
     "metadata": {},
     "output_type": "display_data"
    },
    {
     "data": {
      "text/html": [
       "<center>\n",
       "              933 (754) <b>image</b>: 674513893.jpg\n",
       "<br/>\n",
       "              <img src=./static/images/674513893.jpg\n",
       " width=\"300px\"><br/>\n",
       "              A man is standing in the water at sunset\n",
       "<br/>\n",
       "              <b>categories</b>:stance, activity, position\n",
       "              </center>"
      ],
      "text/plain": [
       "<IPython.core.display.HTML object>"
      ]
     },
     "metadata": {},
     "output_type": "display_data"
    },
    {
     "data": {
      "text/html": [
       "<center>\n",
       "              952 (767) <b>image</b>: 7130577881.jpg\n",
       "<br/>\n",
       "              <img src=./static/images/7130577881.jpg\n",
       " width=\"300px\"><br/>\n",
       "              A man in a red shirt is standing in front of a crowd\n",
       "<br/>\n",
       "              <b>categories</b>:stance, scene/event/location, type of clothing\n",
       "              </center>"
      ],
      "text/plain": [
       "<IPython.core.display.HTML object>"
      ]
     },
     "metadata": {},
     "output_type": "display_data"
    },
    {
     "data": {
      "text/html": [
       "<center>\n",
       "              953 (768) <b>image</b>: 71406758.jpg\n",
       "<br/>\n",
       "              <img src=./static/images/71406758.jpg\n",
       " width=\"300px\"><br/>\n",
       "              A man in a white shirt is standing in front of a crowd of people\n",
       "<br/>\n",
       "              <b>categories</b>:scene/event/location, other, number\n",
       "              </center>"
      ],
      "text/plain": [
       "<IPython.core.display.HTML object>"
      ]
     },
     "metadata": {},
     "output_type": "display_data"
    },
    {
     "data": {
      "text/html": [
       "<center>\n",
       "              985 (788) <b>image</b>: 7719524174.jpg\n",
       "<br/>\n",
       "              <img src=./static/images/7719524174.jpg\n",
       " width=\"300px\"><br/>\n",
       "              A boy in a yellow jacket is sitting on a wooden bench\n",
       "<br/>\n",
       "              <b>categories</b>:stance, similar-object, color of clothing\n",
       "              </center>"
      ],
      "text/plain": [
       "<IPython.core.display.HTML object>"
      ]
     },
     "metadata": {},
     "output_type": "display_data"
    },
    {
     "data": {
      "text/html": [
       "<center>\n",
       "              1002 (801) <b>image</b>: 8209386413.jpg\n",
       "<br/>\n",
       "              <img src=./static/images/8209386413.jpg\n",
       " width=\"300px\"><br/>\n",
       "              A man in a white shirt and a woman in a white shirt are standing on a cliff\n",
       "<br/>\n",
       "              <b>categories</b>:age, color of clothing, extra subject\n",
       "              </center>"
      ],
      "text/plain": [
       "<IPython.core.display.HTML object>"
      ]
     },
     "metadata": {},
     "output_type": "display_data"
    },
    {
     "name": "stdout",
     "output_type": "stream",
     "text": [
      "83\n"
     ]
    }
   ],
   "source": [
    "# Find descriptions from particular error categories.\n",
    "counter = 0\n",
    "for i, cats in incongruent.items():\n",
    "    # Option 1: exact matching.\n",
    "    #if cats == ['other']:\n",
    "    # Option 2: inclusion.\n",
    "    if len(cats) ==3:\n",
    "        display_image(i)\n",
    "        counter += 1\n",
    "#     if 'number' in cats and int(i)<100:\n",
    "#         display_image(i)\n",
    "#         \n",
    "print(counter)"
   ]
  },
  {
   "cell_type": "code",
   "execution_count": 16,
   "metadata": {
    "collapsed": false
   },
   "outputs": [],
   "source": [
    "with open('./annotations_desmond/incongruent_categorized.json') as f:\n",
    "    incongruent_desmond = json.load(f)\n",
    "\n",
    "# This image was in the guidelines. \n",
    "# Desmond annotated an additional image so as to keep the annotation honest.\n",
    "del incongruent_desmond[\"82\"]\n",
    "\n",
    "def precision_recall():\n",
    "    \"Compute the precision and recall\"\n",
    "    total_relevant = 0\n",
    "    total_retrieved = 0\n",
    "    total_relevant_retrieved = 0\n",
    "    for i, desmond_cats in incongruent_desmond.items():\n",
    "        if i in incongruent:\n",
    "            retrieved = set(desmond_cats)\n",
    "            relevant = set(incongruent[i])\n",
    "            relevant_retrieved = relevant & retrieved\n",
    "            total_relevant += len(relevant)\n",
    "            total_retrieved += len(retrieved)\n",
    "            total_relevant_retrieved += len(relevant_retrieved)\n",
    "    precision = total_relevant_retrieved/total_retrieved\n",
    "    recall = total_relevant_retrieved/total_relevant\n",
    "    f1 = (precision+recall)/2\n",
    "    results = ('We treat the double annotation for the second task as a retrieval problem: '\n",
    "               'how many error categories are also found by the second annotator? In our evaluation, '\n",
    "               'we achieved a precision of {:.2f}, with a recall of {:.2f}, resulting in an F1-score '\n",
    "               'of {:.2f}.'.format(precision, recall, f1))\n",
    "    print(results)\n",
    "\n",
    "def print_table():\n",
    "    \"Print frequency tables for incongruent items.\"\n",
    "    \n",
    "    # Frequency of each error\n",
    "    c = Counter()\n",
    "    for i, cats in incongruent.items():\n",
    "        c.update(cats)\n",
    "    \n",
    "    num_errors = sum(c.values())\n",
    "    print(num_errors)\n",
    "    num_images = len(incongruent)\n",
    "    print(\"Errors per image: {:.2f}\".format(num_errors/num_images))\n",
    "    print(len(incongruent), \"Incongruent items, out of\", len(images), \"images\")\n",
    "    percentage = (len(incongruent)/len(images))*100\n",
    "    print(\"{:.2f} percent\".format(percentage))\n",
    "    print()\n",
    "    table = tabulate(c.most_common(),headers=['Category','Count'],tablefmt=\"latex_booktabs\")\n",
    "    print(table)\n",
    "    print()\n",
    "    # Number of errors per image.\n",
    "    c = Counter(len(cats) for cats in incongruent.values())\n",
    "    num, count = zip(*c.most_common())\n",
    "    num = ['Number of errors'] + list(num)\n",
    "    count = ['Count'] + list(count)\n",
    "    table = tabulate([num,count], tablefmt=\"latex_booktabs\")\n",
    "    print(table)\n",
    "    print()"
   ]
  },
  {
   "cell_type": "code",
   "execution_count": 17,
   "metadata": {
    "collapsed": false
   },
   "outputs": [
    {
     "name": "stdout",
     "output_type": "stream",
     "text": [
      "1265\n",
      "Errors per image: 1.56\n",
      "812 Incongruent items, out of 1014 images\n",
      "80.08 percent\n",
      "\n",
      "\\begin{tabular}{lr}\n",
      "\\toprule\n",
      " Category             &   Count \\\\\n",
      "\\midrule\n",
      " generally unrelated  &     264 \\\\\n",
      " color of clothing    &     195 \\\\\n",
      " activity             &     168 \\\\\n",
      " type of clothing     &     104 \\\\\n",
      " gender               &      98 \\\\\n",
      " scene/event/location &      91 \\\\\n",
      " number               &      61 \\\\\n",
      " inexistent-object    &      47 \\\\\n",
      " age                  &      40 \\\\\n",
      " stance               &      38 \\\\\n",
      " position             &      37 \\\\\n",
      " extra subject        &      34 \\\\\n",
      " similar-object       &      31 \\\\\n",
      " other                &      20 \\\\\n",
      " color                &      14 \\\\\n",
      " inexistent-subject   &      11 \\\\\n",
      " wrong-object         &       7 \\\\\n",
      " similar-subject      &       3 \\\\\n",
      " extra object         &       1 \\\\\n",
      " wrong-subject        &       1 \\\\\n",
      "\\bottomrule\n",
      "\\end{tabular}\n",
      "\n",
      "\\begin{tabular}{lrrrr}\n",
      "\\toprule\n",
      " Number of errors &   1 &   2 &  3 &  4 \\\\\n",
      " Count            & 486 & 221 & 83 & 22 \\\\\n",
      "\\bottomrule\n",
      "\\end{tabular}\n",
      "\n",
      "We treat the double annotation for the second task as a retrieval problem: how many error categories are also found by the second annotator? In our evaluation, we achieved a precision of 0.54, with a recall of 0.55, resulting in an F1-score of 0.54.\n"
     ]
    }
   ],
   "source": [
    "print_table()\n",
    "precision_recall()"
   ]
  },
  {
   "cell_type": "code",
   "execution_count": 15,
   "metadata": {
    "collapsed": false
   },
   "outputs": [
    {
     "data": {
      "text/html": [
       "<center>\n",
       "              82 (69) <b>image</b>: 167001809.jpg\n",
       "<br/>\n",
       "              <img src=./static/images/167001809.jpg\n",
       " width=\"300px\"><br/>\n",
       "              A group of people standing in the snow\n",
       "<br/>\n",
       "              <b>categories</b>:generally unrelated\n",
       "              </center>"
      ],
      "text/plain": [
       "<IPython.core.display.HTML object>"
      ]
     },
     "metadata": {},
     "output_type": "display_data"
    }
   ],
   "source": [
    "display_image(\"82\")"
   ]
  }
 ],
 "metadata": {
  "anaconda-cloud": {},
  "kernelspec": {
   "display_name": "Python 3",
   "language": "python",
   "name": "python3"
  },
  "language_info": {
   "codemirror_mode": {
    "name": "ipython",
    "version": 3
   },
   "file_extension": ".py",
   "mimetype": "text/x-python",
   "name": "python",
   "nbconvert_exporter": "python",
   "pygments_lexer": "ipython3",
   "version": "3.6.1"
  }
 },
 "nbformat": 4,
 "nbformat_minor": 1
}
